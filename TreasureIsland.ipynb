{
  "nbformat": 4,
  "nbformat_minor": 0,
  "metadata": {
    "colab": {
      "provenance": []
    },
    "kernelspec": {
      "name": "python3",
      "display_name": "Python 3"
    },
    "language_info": {
      "name": "python"
    }
  },
  "cells": [
    {
      "cell_type": "code",
      "source": [
        "print(\"Welcome to Treasure Island. Your mission is to find the treasure.\\n Your mission is to find the treasure\")"
      ],
      "metadata": {
        "colab": {
          "base_uri": "https://localhost:8080/"
        },
        "id": "MxuhM0vBPq8K",
        "outputId": "4ab5b0b0-6959-4972-f6f5-e467baf07e98"
      },
      "execution_count": 8,
      "outputs": [
        {
          "output_type": "stream",
          "name": "stdout",
          "text": [
            "Welcome to Treasure Islans. Your mission is to find the treasure.\n",
            " Your mission is to find the treasure\n"
          ]
        }
      ]
    },
    {
      "cell_type": "code",
      "source": [
        "print(\"\"\"\\\n",
        "                                   v.._                       _..v\n",
        "                                    )\\ '-.                 .-' /(\n",
        "                                    : \\   :               :   / :\n",
        "                                     '.\\   '.    ._.    .''  /.'\n",
        "                                       :\\    i.-'   '-.i    /:\n",
        "                                        '\\ .-'         '-. /'\n",
        "      _..eeaa.._                          :               :                          _..eeaa.._\n",
        "     i\"T$P^T888aaa.._                    /   .-'\\. ./'-.   \\                    _..eee8887^T$P\"i\n",
        "      '.     \"T888888aa.                /   /  ()/ \\()  \\   \\                .ee8888887\"     .'\n",
        "        '      '\"T8888.88a             :    '._.' . '._.'    :             e88.88887\"'      '\n",
        "         i           \"T8888a.          | .i'     / \\     'i. |          .e8888P\"           i\n",
        "         :             \"T8888a.        |  '.     '-'     .'  |        .e88867\"             :\n",
        "          i               T8888a.      :    i__..-=-..__i    :      .e8888P               i\n",
        "          :                \"T8888a.     '.   \\/       \\/   .'     .e8888P\"                :\n",
        "          :                  \"88888a.     i-.           .-i     .e88888\"                  :\n",
        "           i                  \"T88888a._./   '-..___..-'   \\._.e88888P\"                  i\n",
        "           :                     \"T88888P                   Y88888P\"                     :\n",
        "           :                       'T88\"                     \"88P'                       :\n",
        "            i                    .__.:                         :.__.                    i\n",
        "            :               _.--'   :                           :   '--._               :\n",
        "             :         _.--'        |                           |        '--._         :\n",
        "             i___...--'             :                           :             '--...___i\n",
        "                                     :                         :\n",
        "                                     '.                       .'\n",
        "                                      '.                     .'\n",
        "                                        ''                 .' .\n",
        "                                         Y'-..         ..-'Y\n",
        "                                        :     '-.___.-'     :\n",
        "                                        |      .'87\"'.      |\n",
        "                                        :     :  ^.   :     :\n",
        "                                         :   :   \"^.   :   :        ._.\n",
        "                                         |   |    \"^.  |   |        )&(\n",
        "                                         :   :      \"'e:   :    .aP\" ^\n",
        "                                          : :           : : \"TP\"\n",
        "                                          | |           | |\n",
        "                                          : :           : :\n",
        "                                         /   )         (   \\          fsc\n",
        "                                      _.'   /           \\   '._\n",
        "                                    .' _ . /             \\     '.\n",
        "                                   (_i-i/_i               i_\\i-i_)\n",
        "\"\"\")"
      ],
      "metadata": {
        "colab": {
          "base_uri": "https://localhost:8080/"
        },
        "id": "i49_opv-L_QM",
        "outputId": "387687ad-f2ea-40fd-dd40-35d94ba244b8"
      },
      "execution_count": 6,
      "outputs": [
        {
          "output_type": "stream",
          "name": "stdout",
          "text": [
            "                                   v.._                       _..v                               \n",
            "                                    )\\ '-.                 .-' /(                                \n",
            "                                    : \\   :               :   / :                                \n",
            "                                     '.\\   '.    ._.    .''  /.'                                 \n",
            "                                       :\\    i.-'   '-.i    /:                                   \n",
            "                                        '\\ .-'         '-. /'                                    \n",
            "      _..eeaa.._                          :               :                          _..eeaa.._  \n",
            "     i\"T$P^T888aaa.._                    /   .-'\\. ./'-.   \\                    _..eee8887^T$P\"i \n",
            "      '.     \"T888888aa.                /   /  ()/ \\()  \\   \\                .ee8888887\"     .'  \n",
            "        '      '\"T8888.88a             :    '._.' . '._.'    :             e88.88887\"'      '    \n",
            "         i           \"T8888a.          | .i'     / \\     'i. |          .e8888P\"           i     \n",
            "         :             \"T8888a.        |  '.     '-'     .'  |        .e88867\"             :     \n",
            "          i               T8888a.      :    i__..-=-..__i    :      .e8888P               i      \n",
            "          :                \"T8888a.     '.   \\/       \\/   .'     .e8888P\"                :      \n",
            "          :                  \"88888a.     i-.           .-i     .e88888\"                  :      \n",
            "           i                  \"T88888a._./   '-..___..-'   \\._.e88888P\"                  i       \n",
            "           :                     \"T88888P                   Y88888P\"                     :       \n",
            "           :                       'T88\"                     \"88P'                       :       \n",
            "            i                    .__.:                         :.__.                    i        \n",
            "            :               _.--'   :                           :   '--._               :        \n",
            "             :         _.--'        |                           |        '--._         :         \n",
            "             i___...--'             :                           :             '--...___i         \n",
            "                                     :                         :                                 \n",
            "                                     '.                       .'                                 \n",
            "                                      '.                     .'                                  \n",
            "                                        ''                 .' .                                  \n",
            "                                         Y'-..         ..-'Y                                     \n",
            "                                        :     '-.___.-'     :                                    \n",
            "                                        |      .'87\"'.      |                                    \n",
            "                                        :     :  ^.   :     :                                    \n",
            "                                         :   :   \"^.   :   :        ._.                          \n",
            "                                         |   |    \"^.  |   |        )&(                          \n",
            "                                         :   :      \"'e:   :    .aP\" ^                           \n",
            "                                          : :           : : \"TP\"                                 \n",
            "                                          | |           | |                                      \n",
            "                                          : :           : :                                      \n",
            "                                         /   )         (   \\          fsc                        \n",
            "                                      _.'   /           \\   '._                                  \n",
            "                                    .' _ . /             \\     '.                                \n",
            "                                   (_i-i/_i               i_\\i-i_)  \n",
            "\n"
          ]
        }
      ]
    },
    {
      "cell_type": "code",
      "source": [
        "print(\"Welcome to Treasure Island. Your mission is to find the treasure.\\n Your mission is to find the treasure\")\n",
        "starting_road = str(input(\"You are at Cross Road, where do you want to go? left or right: \"))\n",
        "\n",
        "\n",
        "\n",
        "if starting_road == \"left\" or starting_road == \"Left\":\n",
        "  swimming_next = input(\"There's an island in the middle of the lake.\\n Type 'wait' to wait for a boat or Type 'swim' to swim across: \")\n",
        "  print(swimming_next)\n",
        "  if swimming_next == \"wait\" or swimming_next == \"Wait\":\n",
        "    next_door = input(\"You arrive at an island unharmed.\\n There is a house with three doors, one red, one yellow and one blue. Choose one door, Blue, Red or Yellow: \")\n",
        "    print(next_door)\n",
        "    if next_door == \"Red\" or next_door == \"red\":\n",
        "      print(\"GAME OVER!!\\n Burned by fire\")\n",
        "    elif next_door == \"Blue\" or next_door == \"blue\":\n",
        "        print(\"GAME OVER!!\\n Eaten by Beats\")\n",
        "    elif next_door == \"Yellow\" or next_door == \"yellow\":\n",
        "        print(\"YOU WIN!\")\n",
        "    else:\n",
        "        print(\"GAME OVER\")\n",
        "  else:\n",
        "    print(\"GAME OVER!\\n You were attacked by an angry trout\")\n",
        "elif starting_road == \"right\" or starting_road == \"Right\":\n",
        "  print(\"GAME OVER!!\\n you fell in a hole\")\n",
        "else:\n",
        "  print(\"Wrong Input, please choose left or right\")\n"
      ],
      "metadata": {
        "colab": {
          "base_uri": "https://localhost:8080/"
        },
        "id": "1cdKK8pfQALK",
        "outputId": "d9835003-58a0-4cd4-a588-f941dffa1698"
      },
      "execution_count": 25,
      "outputs": [
        {
          "output_type": "stream",
          "name": "stdout",
          "text": [
            "Welcome to Treasure Island. Your mission is to find the treasure.\n",
            " Your mission is to find the treasure\n",
            "You are at Cross Road, where do you want to go? left or right: left\n",
            "There's an island in the middle of the lake.\n",
            " Type 'wait' to wait for a boat or Type 'swim' to swim acrosswait\n",
            "wait\n",
            "You arrive at an island unharmed.\n",
            " There is a house with three doors, one red, one yellow and one blue. Choose one door, Blue, Red or Yellow: yellow\n",
            "yellow\n",
            "YOU WIN!\n"
          ]
        }
      ]
    },
    {
      "cell_type": "code",
      "source": [],
      "metadata": {
        "id": "H3aAyY3YZj4n"
      },
      "execution_count": null,
      "outputs": []
    }
  ]
}