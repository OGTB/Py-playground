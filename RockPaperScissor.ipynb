{
  "nbformat": 4,
  "nbformat_minor": 0,
  "metadata": {
    "colab": {
      "provenance": []
    },
    "kernelspec": {
      "name": "python3",
      "display_name": "Python 3"
    },
    "language_info": {
      "name": "python"
    }
  },
  "cells": [
    {
      "cell_type": "code",
      "source": [
        "import random"
      ],
      "metadata": {
        "id": "24g9d9LkDyp0"
      },
      "execution_count": 299,
      "outputs": []
    },
    {
      "cell_type": "code",
      "execution_count": 300,
      "metadata": {
        "id": "y-MqAk8iCMNu"
      },
      "outputs": [],
      "source": [
        "rock = '''\n",
        "    _______\n",
        "---'   ____)\n",
        "      (_____)\n",
        "      (_____)\n",
        "      (____)\n",
        "---.__(___)\n",
        "'''\n",
        "\n",
        "paper = '''\n",
        "    _______\n",
        "---'   ____)____\n",
        "          ______)\n",
        "          _______)\n",
        "         _______)\n",
        "---.__________)\n",
        "'''\n",
        "\n",
        "scissors = '''\n",
        "    _______\n",
        "---'   ____)____\n",
        "          ______)\n",
        "       __________)\n",
        "      (____)\n",
        "---.__(___)\n",
        "'''"
      ]
    },
    {
      "cell_type": "code",
      "source": [
        "rps = [rock,paper,scissors]\n",
        "user_choice = int(input(\"Please choose 0 for rock, 1 for Paper and 2 for scissors: \"))"
      ],
      "metadata": {
        "colab": {
          "base_uri": "https://localhost:8080/"
        },
        "id": "0GGL-KvXwp5h",
        "outputId": "9d9a9d0a-fb54-4038-a944-d53b3264a7c5"
      },
      "execution_count": 301,
      "outputs": [
        {
          "name": "stdout",
          "output_type": "stream",
          "text": [
            "Please choose 0 for rock, 1 for Paper and 2 for scissors: 1\n"
          ]
        }
      ]
    },
    {
      "cell_type": "code",
      "source": [
        "try:\n",
        "  print(rps[user_choice])\n",
        "except:\n",
        "  print(\"Please Enter a valid input\")"
      ],
      "metadata": {
        "colab": {
          "base_uri": "https://localhost:8080/"
        },
        "id": "UVQunqdUGmnl",
        "outputId": "e31e1b4b-d48d-4aa2-d459-3244eabd77e3"
      },
      "execution_count": 302,
      "outputs": [
        {
          "output_type": "stream",
          "name": "stdout",
          "text": [
            "\n",
            "    _______\n",
            "---'   ____)____\n",
            "          ______)\n",
            "          _______)\n",
            "         _______)\n",
            "---.__________)\n",
            "\n"
          ]
        }
      ]
    },
    {
      "cell_type": "code",
      "source": [
        "computer_choice = random.randint(0,2)\n",
        "print(computer_choice)\n",
        "print(rps[computer_choice])"
      ],
      "metadata": {
        "colab": {
          "base_uri": "https://localhost:8080/"
        },
        "id": "BXbjY2LBrW4H",
        "outputId": "c6cd5e7e-85d7-45f6-e3be-4a972f9ef830"
      },
      "execution_count": 303,
      "outputs": [
        {
          "output_type": "stream",
          "name": "stdout",
          "text": [
            "2\n",
            "\n",
            "    _______\n",
            "---'   ____)____\n",
            "          ______)\n",
            "       __________)\n",
            "      (____)\n",
            "---.__(___)\n",
            "\n"
          ]
        }
      ]
    },
    {
      "cell_type": "code",
      "source": [
        "if user_choice == 0:\n",
        "  if computer_choice == 1:\n",
        "    print(\"You lose\")\n",
        "  elif computer_choice == 2:\n",
        "    print(\"congratulation! You win\")\n",
        "  elif computer_choice == 0:\n",
        "    print(\"You draw\")\n",
        "elif user_choice == 1:\n",
        "  if computer_choice == 1:\n",
        "    print(\"You draw\")\n",
        "  elif computer_choice == 2:\n",
        "    print(\"You lose\")\n",
        "  elif computer_choice == 0:\n",
        "    print(\"congratulation! You win\")\n",
        "elif user_choice == 2:\n",
        "  if computer_choice == 1:\n",
        "    print(\"congratulation! You win\")\n",
        "  elif computer_choice == 2:\n",
        "    print(\"You draw\")\n",
        "  elif computer_choice == 0:\n",
        "    print(\"You lose\")\n",
        "\n",
        "\n"
      ],
      "metadata": {
        "colab": {
          "base_uri": "https://localhost:8080/"
        },
        "id": "QPo-IWX2yNA3",
        "outputId": "47157c02-e550-438d-a6e4-366960c35122"
      },
      "execution_count": 304,
      "outputs": [
        {
          "output_type": "stream",
          "name": "stdout",
          "text": [
            "You lose\n"
          ]
        }
      ]
    },
    {
      "cell_type": "code",
      "source": [],
      "metadata": {
        "id": "Qv0Op-p8Dswc"
      },
      "execution_count": null,
      "outputs": []
    }
  ]
}