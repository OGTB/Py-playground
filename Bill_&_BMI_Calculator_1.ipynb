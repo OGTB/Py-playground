{
  "nbformat": 4,
  "nbformat_minor": 0,
  "metadata": {
    "colab": {
      "provenance": []
    },
    "kernelspec": {
      "name": "python3",
      "display_name": "Python 3"
    },
    "language_info": {
      "name": "python"
    }
  },
  "cells": [
    {
      "cell_type": "code",
      "execution_count": null,
      "metadata": {
        "colab": {
          "base_uri": "https://localhost:8080/"
        },
        "id": "0JcSZb0cwFdN",
        "outputId": "0cab3874-44db-4660-e102-af8820194816"
      },
      "outputs": [
        {
          "output_type": "stream",
          "name": "stdout",
          "text": [
            "1\n",
            "2\n",
            "3\n",
            "4\n",
            "5\n",
            "6\n",
            "7\n",
            "8\n",
            "9\n",
            "10\n"
          ]
        }
      ],
      "source": [
        "i = 0\n",
        "while i < 10:\n",
        "   i += 1\n",
        "   print(i)\n"
      ]
    },
    {
      "cell_type": "code",
      "source": [
        "print(\"Hello, \" + input(\"What is your name?\") + \"!\")"
      ],
      "metadata": {
        "id": "ozk1mzQWw4be",
        "colab": {
          "base_uri": "https://localhost:8080/"
        },
        "outputId": "cb749749-9808-4a0f-b3ea-e8e56831223e"
      },
      "execution_count": 1,
      "outputs": [
        {
          "output_type": "stream",
          "name": "stdout",
          "text": [
            "What is your name?Tonny\n",
            "Hello, Tonny!\n"
          ]
        }
      ]
    },
    {
      "cell_type": "code",
      "source": [
        "len((\"Tonny\"))"
      ],
      "metadata": {
        "colab": {
          "base_uri": "https://localhost:8080/"
        },
        "id": "oQ2uqB7xBYlA",
        "outputId": "ada63bcc-db4f-4089-8c8f-859e5fdfb125"
      },
      "execution_count": 14,
      "outputs": [
        {
          "output_type": "execute_result",
          "data": {
            "text/plain": [
              "9"
            ]
          },
          "metadata": {},
          "execution_count": 14
        }
      ]
    },
    {
      "cell_type": "code",
      "source": [
        "type(True)"
      ],
      "metadata": {
        "colab": {
          "base_uri": "https://localhost:8080/"
        },
        "id": "m9hVyvuEGn7L",
        "outputId": "b14e6002-67ad-4801-c611-a888211a1e53"
      },
      "execution_count": 10,
      "outputs": [
        {
          "output_type": "execute_result",
          "data": {
            "text/plain": [
              "bool"
            ]
          },
          "metadata": {},
          "execution_count": 10
        }
      ]
    },
    {
      "cell_type": "code",
      "source": [
        "print(\"Number of characters in your name is: \" + str(len(input(\"What is your name?\"))))"
      ],
      "metadata": {
        "colab": {
          "base_uri": "https://localhost:8080/"
        },
        "id": "Xq9WumV8JIfg",
        "outputId": "15d489ef-2f63-4995-a63d-90b972df908b"
      },
      "execution_count": 15,
      "outputs": [
        {
          "output_type": "stream",
          "name": "stdout",
          "text": [
            "What is your name?Tonny Ogaa\n",
            "Number of characters in your name is: 10\n"
          ]
        }
      ]
    },
    {
      "cell_type": "code",
      "source": [
        "6 / 4\n"
      ],
      "metadata": {
        "colab": {
          "base_uri": "https://localhost:8080/"
        },
        "id": "0IlTX6jqK5DA",
        "outputId": "961cff50-d0e4-46ab-d8b6-30c8f476a161"
      },
      "execution_count": 19,
      "outputs": [
        {
          "output_type": "execute_result",
          "data": {
            "text/plain": [
              "1.5"
            ]
          },
          "metadata": {},
          "execution_count": 19
        }
      ]
    },
    {
      "cell_type": "code",
      "source": [
        "2 ** 3"
      ],
      "metadata": {
        "colab": {
          "base_uri": "https://localhost:8080/"
        },
        "id": "lJ4iJYT-LEbY",
        "outputId": "ddae39f8-7471-414c-c68a-8765ee377ff6"
      },
      "execution_count": 20,
      "outputs": [
        {
          "output_type": "execute_result",
          "data": {
            "text/plain": [
              "8"
            ]
          },
          "metadata": {},
          "execution_count": 20
        }
      ]
    },
    {
      "cell_type": "code",
      "source": [
        "3 * (3 + 3) / 3 - 3"
      ],
      "metadata": {
        "colab": {
          "base_uri": "https://localhost:8080/"
        },
        "id": "iG875-MALHDk",
        "outputId": "8e0208b1-ad55-4d60-f2fe-585753115db1"
      },
      "execution_count": 23,
      "outputs": [
        {
          "output_type": "execute_result",
          "data": {
            "text/plain": [
              "3.0"
            ]
          },
          "metadata": {},
          "execution_count": 23
        }
      ]
    },
    {
      "cell_type": "code",
      "source": [
        "\n",
        "height = float(input(\"Please Enter your height in m: \"))\n",
        "weight = float(input(\"Please Enter your weight in kg: \"))\n",
        "\n",
        "bmi = round(weight / height**2,2)\n",
        "if bmi < 18.5:\n",
        "  print(f\"Your BMI is {bmi}, you are underweight.\")\n",
        "elif bmi < 25:\n",
        "  print(f\"Your BMI is {bmi}, you have a normal weight.\")\n",
        "elif bmi < 30:\n",
        "  print(f\"Your BMI is {bmi}, you are slightly overweight.\")\n",
        "elif bmi < 35:\n",
        "  print(f\"Your BMI is {bmi}, you are obese.\")\n"
      ],
      "metadata": {
        "colab": {
          "base_uri": "https://localhost:8080/"
        },
        "id": "5K8oY3L_Lxpu",
        "outputId": "5911fd82-d324-4719-91e3-685a8f66511e"
      },
      "execution_count": 39,
      "outputs": [
        {
          "output_type": "stream",
          "name": "stdout",
          "text": [
            "Please Enter your height in m: 1.88\n",
            "Please Enter your weight in kg: 80\n",
            "Your BMI is 22.63, you have a normal weight.\n"
          ]
        }
      ]
    },
    {
      "cell_type": "code",
      "source": [
        "# f-string"
      ],
      "metadata": {
        "id": "bVmxvs-ON4Uw"
      },
      "execution_count": null,
      "outputs": []
    },
    {
      "cell_type": "code",
      "source": [
        "score = 0\n",
        "height = 1.88\n",
        "isWinning = True\n",
        "\n",
        "print(f\"your score is {score}, your height is {height}, you are winning is {isWinning}\")"
      ],
      "metadata": {
        "colab": {
          "base_uri": "https://localhost:8080/"
        },
        "id": "PDZQrLswOci0",
        "outputId": "cabda5c7-24f3-46b9-ba0c-0bf9f91aae09"
      },
      "execution_count": 27,
      "outputs": [
        {
          "output_type": "stream",
          "name": "stdout",
          "text": [
            "your score is 0, your height is 1.88, you are winning is True\n"
          ]
        }
      ]
    },
    {
      "cell_type": "code",
      "source": [
        "a = int(\"5\") / int(2.7)\n",
        "print(type(a))"
      ],
      "metadata": {
        "colab": {
          "base_uri": "https://localhost:8080/"
        },
        "id": "rRQmFrS4O2rv",
        "outputId": "dc3e46bc-4d41-404e-89c8-9dbc946eec01"
      },
      "execution_count": 28,
      "outputs": [
        {
          "output_type": "stream",
          "name": "stdout",
          "text": [
            "<class 'float'>\n"
          ]
        }
      ]
    },
    {
      "cell_type": "code",
      "source": [
        "# Bill calculator"
      ],
      "metadata": {
        "id": "Epf2s5RkPBIU"
      },
      "execution_count": null,
      "outputs": []
    },
    {
      "cell_type": "code",
      "source": [
        "print(\"Welcome to the tip calculator!\")\n",
        "bill = int(input(\"What was the total bill?\"))\n",
        "percentagetip = int(input(\"How much tip would you like to give? 10, 12, or 15?\"))\n",
        "\n",
        "if percentagetip == 10:\n",
        "  bill = bill * 1.10\n",
        "elif percentagetip == 12:\n",
        "  bill = bill * 1.12\n",
        "elif percentagetip == 15:\n",
        "  bill = bill * 1.15\n",
        "else:\n",
        "  print(\"Invalid input\")\n",
        "people = int(input(\"How many people to split the bill?\"))\n",
        "bill = bill / people\n",
        "print(f\"Each person should pay: {bill}\")"
      ],
      "metadata": {
        "colab": {
          "base_uri": "https://localhost:8080/"
        },
        "id": "h6Bx7tjMPBe8",
        "outputId": "1be589a9-4422-4c8f-e070-9e415b8db6a3"
      },
      "execution_count": 32,
      "outputs": [
        {
          "output_type": "stream",
          "name": "stdout",
          "text": [
            "Welcome to the tip calculator!\n",
            "What was the total bill?1000\n",
            "How much tip would you like to give? 10, 12, or 15?10\n",
            "How many people to split the bill?11\n",
            "Each person should pay: 100.0\n"
          ]
        }
      ]
    },
    {
      "cell_type": "code",
      "source": [
        "# check whether a number is even"
      ],
      "metadata": {
        "id": "EBUFuRQreYkz"
      },
      "execution_count": 40,
      "outputs": []
    },
    {
      "cell_type": "code",
      "source": [
        "print(\"Checking if a number is odd or Even\")\n",
        "number  = int(input(\"Please enter a number:\"))\n",
        "# using a modulo operator\n",
        "if number % 2 == 0:\n",
        "  print(f\"The number {number}, is an even number\")\n",
        "else:\n",
        "  print(f\"The number {number}, is an odd\")"
      ],
      "metadata": {
        "colab": {
          "base_uri": "https://localhost:8080/"
        },
        "id": "C1snbswDrXJ6",
        "outputId": "34a4e868-6ef8-4134-f4ff-b58be8def5a8"
      },
      "execution_count": 43,
      "outputs": [
        {
          "output_type": "stream",
          "name": "stdout",
          "text": [
            "Checking if a number is odd or Even\n",
            "Please enter a number:78\n",
            "The number 78, is an even number\n"
          ]
        }
      ]
    },
    {
      "cell_type": "code",
      "source": [
        "# if else statements - roller coaster"
      ],
      "metadata": {
        "id": "HKwRh-DLrz2g"
      },
      "execution_count": null,
      "outputs": []
    },
    {
      "cell_type": "code",
      "source": [
        "\n",
        "\n",
        "bill = 0\n",
        "\n",
        "height = float(input(\"Please Enter your height in cm: \"))\n",
        "if height >= 120:\n",
        "  print(\"You can ride the roller coaster\")\n",
        "  age = int(input(\"Please Enter your age: \"))\n",
        "  if age <= 12:\n",
        "    bill = 5\n",
        "    print(\"The child tickets are $5\")\n",
        "  elif age <= 18:\n",
        "    bill = 7\n",
        "    print(\"Youths tickets are $7\")\n",
        "  else:\n",
        "    bill = 12\n",
        "    print(\"Adult tickets are $12.\")\n",
        "  photo_check = input(\"Do you want a photo taken? Y or N\")\n",
        "  if photo_check == \"Y\":\n",
        "    bill += 3\n",
        "  print(f\"Please pay ${bill}\")\n",
        "else:\n",
        "  print(\"Sorry, You must be over 120cm to ride\")"
      ],
      "metadata": {
        "colab": {
          "base_uri": "https://localhost:8080/"
        },
        "id": "zpfPfcnY4mf8",
        "outputId": "b4e50527-c221-4946-8168-459c5a823c2e"
      },
      "execution_count": 77,
      "outputs": [
        {
          "name": "stdout",
          "output_type": "stream",
          "text": [
            "Please Enter your height in cm: 3455\n",
            "You can ride the roller coaster\n",
            "Please Enter your age: 11\n",
            "The child tickets are $5\n",
            "Do you want a photo taken? Y or NN\n"
          ]
        }
      ]
    },
    {
      "cell_type": "code",
      "source": [
        "# Pizaa\n"
      ],
      "metadata": {
        "id": "Nc6nR_cQ5IHY"
      },
      "execution_count": 76,
      "outputs": []
    },
    {
      "cell_type": "code",
      "source": [
        "print(\"Welcome to Pythin Pizza Deliveries\")\n",
        "size = input(\"What size pizza do you want? S, M, or L: \")\n",
        "pepperoni = input(\"Do you want pepperoni? Y or N: \")\n",
        "extra_cheese = input(\"Do you want extra cheese? Y or N: \")\n",
        "bill = 0\n",
        "\n",
        "if size == 'S':\n",
        "  bill += 15\n",
        "elif size == 'M':\n",
        "    bill += 20\n",
        "elif size == 'L':\n",
        "  bill += 25\n",
        "else:\n",
        "  print(\"wrong input\")\n",
        "if pepperoni == 'Y':\n",
        "  if size == 'S':\n",
        "    bill += 2\n",
        "  else:\n",
        "    bill += 3\n",
        "if extra_cheese == 'Y':\n",
        "  bill += 1\n",
        "print(f\"your total bill is ${bill}\")\n"
      ],
      "metadata": {
        "colab": {
          "base_uri": "https://localhost:8080/"
        },
        "id": "QCvn_JAC--hp",
        "outputId": "9644a527-6c0f-4b05-a131-cbb1b1f21448"
      },
      "execution_count": 90,
      "outputs": [
        {
          "output_type": "stream",
          "name": "stdout",
          "text": [
            "Welcome to Pythin Pizza Deliveries\n",
            "What size pizza do you want? S, M, or L: M\n",
            "Do you want pepperoni? Y or N: N\n",
            "Do you want extra cheese? Y or N: Y\n",
            "your total bill is $21\n"
          ]
        }
      ]
    },
    {
      "cell_type": "code",
      "source": [
        "\n"
      ],
      "metadata": {
        "colab": {
          "base_uri": "https://localhost:8080/"
        },
        "id": "i_Uszx6AMStc",
        "outputId": "f37d599c-ca00-4034-ccbf-17bb05331a19"
      },
      "execution_count": 87,
      "outputs": [
        {
          "output_type": "execute_result",
          "data": {
            "text/plain": [
              "9800000"
            ]
          },
          "metadata": {},
          "execution_count": 87
        }
      ]
    },
    {
      "cell_type": "code",
      "source": [],
      "metadata": {
        "id": "BQgvu_VDPKPV"
      },
      "execution_count": null,
      "outputs": []
    }
  ]
}