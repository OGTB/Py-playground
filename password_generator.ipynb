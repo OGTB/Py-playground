{
  "nbformat": 4,
  "nbformat_minor": 0,
  "metadata": {
    "colab": {
      "provenance": []
    },
    "kernelspec": {
      "name": "python3",
      "display_name": "Python 3"
    },
    "language_info": {
      "name": "python"
    }
  },
  "cells": [
    {
      "cell_type": "code",
      "execution_count": 30,
      "metadata": {
        "id": "QwaBZS--aggl",
        "colab": {
          "base_uri": "https://localhost:8080/"
        },
        "outputId": "e128a89d-6303-4f74-8aa8-0e33bfcb6281"
      },
      "outputs": [
        {
          "output_type": "stream",
          "name": "stdout",
          "text": [
            "Welcome to the PyPassword Generator!\n",
            "How many letters would you like in your password?\n",
            "9\n",
            "How many symbols would you like?\n",
            "5\n",
            "How many numbers would you like?\n",
            "3\n",
            "Your password is (J72#RUgany&#&9Kz\n"
          ]
        }
      ],
      "source": [
        "import random\n",
        "letters = ['a', 'b', 'c', 'd', 'e', 'f', 'g', 'h', 'i', 'j', 'k', 'l', 'm', 'n', 'o', 'p', 'q', 'r', 's', 't', 'u', 'v', 'w', 'x', 'y', 'z', 'A', 'B', 'C', 'D', 'E', 'F', 'G', 'H', 'I', 'J', 'K', 'L', 'M', 'N', 'O', 'P', 'Q', 'R', 'S', 'T', 'U', 'V', 'W', 'X', 'Y', 'Z']\n",
        "numbers = ['0', '1', '2', '3', '4', '5', '6', '7', '8', '9']\n",
        "symbols = ['!', '#', '$', '%', '&', '(', ')', '*', '+']\n",
        "\n",
        "print(\"Welcome to the PyPassword Generator!\")\n",
        "nr_letters= int(input(\"How many letters would you like in your password?\\n\"))\n",
        "nr_symbols = int(input(f\"How many symbols would you like?\\n\"))\n",
        "nr_numbers = int(input(f\"How many numbers would you like?\\n\"))\n",
        "\n",
        "password_list = []\n",
        "for char in range(0, nr_letters):\n",
        "  random_char = random.choice(letters)\n",
        "  password_list\t+= random_char\n",
        "for char in range(0, nr_symbols):\n",
        "  random_sym = random.choice(symbols)\n",
        "  password_list\t+= random_sym\n",
        "for char in range(0, nr_numbers):\n",
        "  random_no = random.choice(numbers)\n",
        "  password_list\t+= random_no\n",
        "password_list\n",
        "random.shuffle(password_list)\n",
        "password_list\n",
        "\n",
        "password = \"\"\n",
        "for i in password_list:\n",
        "  password += i\n",
        "print(f\"Your password is {password}\")\n",
        ""
      ]
    }
  ]
}